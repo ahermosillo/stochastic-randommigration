{
 "cells": [
  {
   "cell_type": "code",
   "execution_count": 1,
   "id": "9350cf10",
   "metadata": {},
   "outputs": [
    {
     "name": "stdout",
     "output_type": "stream",
     "text": [
      "Populating the interactive namespace from numpy and matplotlib\n"
     ]
    }
   ],
   "source": [
    "%pylab inline"
   ]
  },
  {
   "cell_type": "markdown",
   "id": "49389a3a",
   "metadata": {},
   "source": [
    "# make the small file, low eccentricity"
   ]
  },
  {
   "cell_type": "code",
   "execution_count": 2,
   "id": "2c0ea405",
   "metadata": {},
   "outputs": [],
   "source": [
    "text1 = ')O+_06 Small-body initial data  (WARNING: Do not delete this line!!)\\n'\n",
    "text2 = ') Lines beginning with ) are ignored.\\n'\n",
    "text3 = ')---------------------------------------------------------------------\\n'\n",
    "text4 = ' style (Cartesian, Asteroidal, Cometary) = Ast\\n'     \n",
    "text5 = ')---------------------------------------------------------------------\\n'\n",
    "nbod = 9000\n",
    "mass_small = 1.8e-10 # solar masses\n",
    "eccen = 0.001"
   ]
  },
  {
   "cell_type": "code",
   "execution_count": 3,
   "id": "3e34d8c2",
   "metadata": {},
   "outputs": [],
   "source": [
    "with open('small.in', 'w') as the_file:\n",
    "    the_file.write(text1)\n",
    "    the_file.write(text2)\n",
    "    the_file.write(text3)\n",
    "    the_file.write(text4)\n",
    "    the_file.write(text5)\n",
    "    for j in range(1,nbod+1):\n",
    "        semi = np.random.uniform(21.5,28.5) # 20,30 inclusive\n",
    "        inc = np.random.uniform()*eccen*180/np.pi\n",
    "        the_file.write(\" S{} m={}\\n {} {} {} {} {} {} 0 0 0\\n\".format(j,mass_small, semi, eccen, inc,\\\n",
    "                360*np.random.uniform(),360*np.random.uniform(),360*np.random.uniform()))"
   ]
  },
  {
   "cell_type": "markdown",
   "id": "25b4d3eb",
   "metadata": {},
   "source": [
    "## make the small.in for high eccentricity\n"
   ]
  },
  {
   "cell_type": "code",
   "execution_count": 4,
   "id": "47944fc1",
   "metadata": {},
   "outputs": [],
   "source": [
    "text1 = ')O+_06 Small-body initial data  (WARNING: Do not delete this line!!)\\n'\n",
    "text2 = ') Lines beginning with ) are ignored.\\n'\n",
    "text3 = ')---------------------------------------------------------------------\\n'\n",
    "text4 = ' style (Cartesian, Asteroidal, Cometary) = Ast\\n'     \n",
    "text5 = ')---------------------------------------------------------------------\\n'\n",
    "nbod = 9000\n",
    "mass_small = 1.8e-10 # solar masses\n",
    "eccen = 0.05\n",
    "\n",
    "# rh = ap*((Mp/3)**(1/3))\n",
    "# eh = rh/ap\n",
    "\n",
    "# if eh < eccen:\n",
    "#     range = eccen\n",
    "# else:\n",
    "#     range = eh\n",
    "\n",
    "with open('small.in', 'w') as the_file:\n",
    "    the_file.write(text1)\n",
    "    the_file.write(text2)\n",
    "    the_file.write(text3)\n",
    "    the_file.write(text4)\n",
    "    the_file.write(text5)\n",
    "    for j in range(1,nbod+1):\n",
    "        semi = np.random.uniform(20,30) # 20,30 inclusive\n",
    "        inc = np.random.uniform()*eccen*180/np.pi\n",
    "        the_file.write(\" S{} m={}\\n {} {} {} {} {} {} 0 0 0\\n\".format(j,mass_small, semi, eccen, inc,\\\n",
    "                360*np.random.uniform(),360*np.random.uniform(),360*np.random.uniform()))"
   ]
  },
  {
   "cell_type": "code",
   "execution_count": null,
   "id": "b8bb9a5d",
   "metadata": {},
   "outputs": [],
   "source": []
  },
  {
   "cell_type": "markdown",
   "id": "91c8bc4b",
   "metadata": {},
   "source": [
    "## make small.in for 0.01 eccentricity"
   ]
  },
  {
   "cell_type": "code",
   "execution_count": 5,
   "id": "53d1eb20",
   "metadata": {},
   "outputs": [],
   "source": [
    "text1 = ')O+_06 Small-body initial data  (WARNING: Do not delete this line!!)\\n'\n",
    "text2 = ') Lines beginning with ) are ignored.\\n'\n",
    "text3 = ')---------------------------------------------------------------------\\n'\n",
    "text4 = ' style (Cartesian, Asteroidal, Cometary) = Ast\\n'     \n",
    "text5 = ')---------------------------------------------------------------------\\n'\n",
    "nbod = 9000\n",
    "mass_small = 1.8e-10 # solar masses\n",
    "eccen = 0.01\n",
    "\n",
    "# rh = ap*((Mp/3)**(1/3))\n",
    "# eh = rh/ap\n",
    "\n",
    "# if eh < eccen:\n",
    "#     range = eccen\n",
    "# else:\n",
    "#     range = eh\n",
    "\n",
    "with open('small.in', 'w') as the_file:\n",
    "    the_file.write(text1)\n",
    "    the_file.write(text2)\n",
    "    the_file.write(text3)\n",
    "    the_file.write(text4)\n",
    "    the_file.write(text5)\n",
    "    for j in range(1,nbod+1):\n",
    "        semi = np.random.uniform(20,30) # 20,30 inclusive\n",
    "        inc = np.random.uniform()*eccen*180/np.pi\n",
    "        the_file.write(\" S{} m={}\\n {} {} {} {} {} {} 0 0 0\\n\".format(j,mass_small, semi, eccen, inc,\\\n",
    "                360*np.random.uniform(),360*np.random.uniform(),360*np.random.uniform()))"
   ]
  },
  {
   "cell_type": "code",
   "execution_count": null,
   "id": "b0e37de4",
   "metadata": {},
   "outputs": [],
   "source": []
  },
  {
   "cell_type": "markdown",
   "id": "1b163417",
   "metadata": {},
   "source": [
    "# Make the Big.in file"
   ]
  },
  {
   "cell_type": "code",
   "execution_count": 6,
   "id": "c5f0fd05",
   "metadata": {},
   "outputs": [],
   "source": [
    "\n",
    "text1 = ')O+_06 Big-body initial data  (WARNING: Do not delete this line!!)\\n'\n",
    "text2 = ') Lines beginning with ) are ignored.\\n'\n",
    "text3 = ')---------------------------------------------------------------------\\n'\n",
    "text4 = ' style (Cartesian, Asteroidal, Cometary) = Asteroid\\n'\n",
    "text5 = ' epoch (in days) = 0\\n'\n",
    "text6 = ')---------------------------------------------------------------------\\n'\n",
    "ap = 25\n",
    "Mp = 1e-6\n",
    "with open('big.in', 'w') as file:\n",
    "    file.write(text1)\n",
    "    file.write(text2)\n",
    "    file.write(text3)\n",
    "    file.write(text4)\n",
    "    file.write(text5)\n",
    "    file.write(text6)\n",
    "    file.write(\" PLANET    m={} r=3.d0 d={}\\n\".format(Mp, 4.0))\n",
    "    file.write(\" {}E+00 0.1E-04 0.0E+00\\n\".format(ap))\n",
    "    file.write(\" 0.0E+00 0.0E+00 0.0E+00\\n\".format(0.0))\n",
    "    file.write(\" {} {} {}\\n\".format('0.0E+00', '0.0E+00', '0.0E+00'))\n"
   ]
  }
 ],
 "metadata": {
  "kernelspec": {
   "display_name": "Python 3 (ipykernel)",
   "language": "python",
   "name": "python3"
  },
  "language_info": {
   "codemirror_mode": {
    "name": "ipython",
    "version": 3
   },
   "file_extension": ".py",
   "mimetype": "text/x-python",
   "name": "python",
   "nbconvert_exporter": "python",
   "pygments_lexer": "ipython3",
   "version": "3.7.13"
  }
 },
 "nbformat": 4,
 "nbformat_minor": 5
}
